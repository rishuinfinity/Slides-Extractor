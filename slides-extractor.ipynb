{
 "cells": [
  {
   "cell_type": "markdown",
   "id": "forced-leave",
   "metadata": {},
   "source": [
    "# Imports"
   ]
  },
  {
   "cell_type": "code",
   "execution_count": 1,
   "id": "geographic-curve",
   "metadata": {},
   "outputs": [],
   "source": [
    "# import ffmpeg\n",
    "import cv2\n",
    "import os\n",
    "import math\n",
    "import subprocess as sp\n",
    "import numpy as np\n",
    "import matplotlib.pyplot as plt\n",
    "import pandas as pd"
   ]
  },
  {
   "cell_type": "code",
   "execution_count": null,
   "id": "documentary-insulin",
   "metadata": {},
   "outputs": [],
   "source": []
  },
  {
   "cell_type": "markdown",
   "id": "postal-workshop",
   "metadata": {},
   "source": [
    "# Variables"
   ]
  },
  {
   "cell_type": "code",
   "execution_count": 2,
   "id": "painful-korea",
   "metadata": {},
   "outputs": [
    {
     "name": "stdout",
     "output_type": "stream",
     "text": [
      "['Link for class Thursday 05-01-22 @ 12 pm-20220105_120228-Meeting Recording.mp4', 'new.mp4', '38. Smoke Signal.mkv']\n",
      "Processing /home/rissu/Desktop/Projects/SlidesExtractor/input/38. Smoke Signal.mkv\n"
     ]
    }
   ],
   "source": [
    "path=\"/home/rissu/Desktop/Projects/SlidesExtractor/input\"\n",
    "video_list = os.listdir(path)\n",
    "print(video_list)\n",
    "videoFile = path + \"/\" + video_list[2]\n",
    "print(\"Processing\", videoFile)\n",
    "\n"
   ]
  },
  {
   "cell_type": "code",
   "execution_count": null,
   "id": "present-massage",
   "metadata": {},
   "outputs": [],
   "source": []
  },
  {
   "cell_type": "markdown",
   "id": "joined-thought",
   "metadata": {},
   "source": [
    "# Comparator Function"
   ]
  },
  {
   "cell_type": "code",
   "execution_count": 5,
   "id": "alert-russian",
   "metadata": {},
   "outputs": [],
   "source": [
    "# currently using MSE\n",
    "# threshold = 36 # gave 136 images\n",
    "# def ImgCmp(img1,img2):\n",
    "#     if(img1.shape != img2.shape):\n",
    "#         print(\"images shapes inconsistent, please use properly\")\n",
    "#     # both images are numpy array with shape (1080,1920,3)\n",
    "#     sqsum = (img1-img2)**2\n",
    "#     sqsum = np.sum(sqsum)\n",
    "#     sqsum_mean = sqsum/(img1.shape[0] * img1.shape[1]);\n",
    "#     return sqsum_mean;\n",
    "\n",
    "# def sigmoid(x):\n",
    "#     ans =  1/(1+np.exp(-0.0001*x))\n",
    "#     return ans\n",
    "\n",
    "# threshold = 50 # gave 136 images\n",
    "mthreshold = 25\n",
    "threshold_finder = []\n",
    "def ImgCmp(img1,img2):\n",
    "    if(img1.shape != img2.shape):\n",
    "        print(\"images shapes inconsistent, please use properly\")\n",
    "    # both images are numpy array with shape (1080,1920,3)\n",
    "    # I have to make 4 sections of the image\n",
    "    shape = img1.shape\n",
    "    split1 = []\n",
    "    split2 = []\n",
    "    split1.append(img1[:shape[0]//2, :shape[1]//2])\n",
    "    split1.append(img1[:shape[0]//2, shape[1]//2:])\n",
    "    split1.append(img1[shape[0]//2:, :shape[1]//2])\n",
    "    split1.append(img1[shape[0]//2:, shape[1]//2:])\n",
    "    split2.append(img2[:shape[0]//2, :shape[1]//2])\n",
    "    split2.append(img2[:shape[0]//2, shape[1]//2:])\n",
    "    split2.append(img2[shape[0]//2:, :shape[1]//2])\n",
    "    split2.append(img2[shape[0]//2:, shape[1]//2:])\n",
    "    \n",
    "    outs = []\n",
    "#     sigmou = []\n",
    "    for i in range(4):\n",
    "        sqsum = (split1[i]-split2[i])**2\n",
    "#         mask = sqsum > 10\n",
    "#         sqsum = np.multiply(sqsum, mask)\n",
    "#         sqsum = np.sum(sqsum)\n",
    "        sqsum_mean = sqsum/(split1[i].shape[0] * split1[i].shape[1]);\n",
    "#         sigmo = sigmoid(sqsum_mean)\n",
    "#         sigmo = sqsum_mean/1000\n",
    "        outs.append(sqsum_mean)\n",
    "#         sigmou.append(sigmo)\n",
    "    decider = np.array(outs)\n",
    "#     marker = np.sum(decider < mthreshold)\n",
    "#     if marker >= 2:\n",
    "#         return False\n",
    "#     decider = np.sum(decider)/4\n",
    "#     print(np.round(outs,0))\n",
    "#     print(round(decider,2),marker,end='')\n",
    "#     threshold_finder.append(decider)\n",
    "#     if(decider > threshold):\n",
    "#         return True # this means images are different\n",
    "#     return False\n",
    "    return decider\n",
    "    \n",
    "def Compare(lastframe,frame,newframe):\n",
    "    pcmp = ImgCmp(lastframe,frame)\n",
    "    ncmp = ImgCmp(frame,newframe )\n",
    "    diff = pcmp-ncmp\n",
    "#     marker = np.sum(diff < 6)\n",
    "#     if marker >= 2:\n",
    "#         return False\n",
    "    diff = np.sum(diff)/4\n",
    "    threshold_finder.append(diff)\n",
    "    print(round(diff,2))\n",
    "    if(diff > mthreshold):\n",
    "        return True\n",
    "    return False"
   ]
  },
  {
   "cell_type": "markdown",
   "id": "secondary-camera",
   "metadata": {},
   "source": [
    "# Extractor"
   ]
  },
  {
   "cell_type": "code",
   "execution_count": 6,
   "id": "white-captain",
   "metadata": {
    "scrolled": true
   },
   "outputs": [
    {
     "name": "stdout",
     "output_type": "stream",
     "text": [
      "Frame Rate  23.976023976023978\n",
      "-194055.24\n",
      "193753.06\n",
      "111.14\n",
      "-102.9\n",
      "1.89\n",
      "119.86\n",
      "-141.08\n"
     ]
    },
    {
     "ename": "KeyboardInterrupt",
     "evalue": "",
     "output_type": "error",
     "traceback": [
      "\u001b[0;31m---------------------------------------------------------------------------\u001b[0m",
      "\u001b[0;31mKeyboardInterrupt\u001b[0m                         Traceback (most recent call last)",
      "\u001b[0;32m<ipython-input-6-59195fae7b17>\u001b[0m in \u001b[0;36m<module>\u001b[0;34m\u001b[0m\n\u001b[1;32m     26\u001b[0m     \u001b[0mtitty\u001b[0m\u001b[0;34m+=\u001b[0m\u001b[0;36m1\u001b[0m\u001b[0;34m\u001b[0m\u001b[0;34m\u001b[0m\u001b[0m\n\u001b[1;32m     27\u001b[0m     \u001b[0mframeId\u001b[0m \u001b[0;34m=\u001b[0m \u001b[0mcap\u001b[0m\u001b[0;34m.\u001b[0m\u001b[0mget\u001b[0m\u001b[0;34m(\u001b[0m\u001b[0;36m1\u001b[0m\u001b[0;34m)\u001b[0m \u001b[0;31m#current frame number\u001b[0m\u001b[0;34m\u001b[0m\u001b[0;34m\u001b[0m\u001b[0m\n\u001b[0;32m---> 28\u001b[0;31m     \u001b[0mret\u001b[0m\u001b[0;34m,\u001b[0m \u001b[0mnewframe\u001b[0m \u001b[0;34m=\u001b[0m \u001b[0mcap\u001b[0m\u001b[0;34m.\u001b[0m\u001b[0mread\u001b[0m\u001b[0;34m(\u001b[0m\u001b[0;34m)\u001b[0m\u001b[0;34m\u001b[0m\u001b[0;34m\u001b[0m\u001b[0m\n\u001b[0m\u001b[1;32m     29\u001b[0m     \u001b[0;32mif\u001b[0m \u001b[0;34m(\u001b[0m\u001b[0mret\u001b[0m \u001b[0;34m!=\u001b[0m \u001b[0;32mTrue\u001b[0m\u001b[0;34m)\u001b[0m\u001b[0;34m:\u001b[0m\u001b[0;34m\u001b[0m\u001b[0;34m\u001b[0m\u001b[0m\n\u001b[1;32m     30\u001b[0m         \u001b[0;32mbreak\u001b[0m\u001b[0;34m\u001b[0m\u001b[0;34m\u001b[0m\u001b[0m\n",
      "\u001b[0;31mKeyboardInterrupt\u001b[0m: "
     ]
    }
   ],
   "source": [
    "######## Clean cache\n",
    "for f in os.listdir(\"./cache\"):\n",
    "    os.remove(\"./cache/\"+f)\n",
    "########\n",
    "\n",
    "count = 0\n",
    "frame=np.zeros((1080,1920,3))\n",
    "lastframe=np.zeros((1080,1920,3))\n",
    "cap = cv2.VideoCapture(videoFile)\n",
    "frameRate = cap.get(5) #frame rate\n",
    "total_frames=cap.get(cv2.CAP_PROP_FRAME_COUNT)\n",
    "print(\"Frame Rate \", frameRate)\n",
    "time_interval = 2\n",
    "img_gap = math.floor(frameRate * time_interval) # ive set image interval to 10sec\n",
    "if(img_gap == 0): # exception handling\n",
    "    img_gap = 1\n",
    "    print(\"img_gap has become 0, change it appropriately\")\n",
    "    \n",
    "    \n",
    "    \n",
    "######## To figure out the threshold value\n",
    "# mean_storage = []\n",
    "########\n",
    "titty = 0\n",
    "while(cap.isOpened()):\n",
    "    titty+=1\n",
    "    frameId = cap.get(1) #current frame number\n",
    "    ret, newframe = cap.read()\n",
    "    if (ret != True):\n",
    "        break\n",
    "    if (frameId % img_gap == 0):\n",
    "        # We got the frame we wanted\n",
    "        # Do any image processing if you want\n",
    "        if(Compare(lastframe,frame,newframe)):\n",
    "            cv2.imwrite(\"./cache/\"+str(count) + \".jpg\",lastframe)\n",
    "            count+=1\n",
    "            \n",
    "#         if(Compare(lastframe,frame,newframe)):\n",
    "#             count+=1\n",
    "#             cv2.imwrite(\"./cache/\"+str(count) + \".jpg\",frame)\n",
    "#         else:\n",
    "#             cv2.imwrite(\"./cache/\"+str(count) + \".jpg\",frame)\n",
    "        lastframe = frame\n",
    "        frame = newframe\n",
    "#     print(round(titty*100/total_frames,2),\"%\",end='\\r')\n",
    "cap.release()\n",
    "print(\"Total image count \", count)\n",
    "print (\"Done!\")"
   ]
  },
  {
   "cell_type": "code",
   "execution_count": 111,
   "id": "innovative-provincial",
   "metadata": {},
   "outputs": [
    {
     "data": {
      "text/plain": [
       "(array([  1.,   0.,   0.,   0., 163., 348.,   0.,   0.,   0.,   1.]),\n",
       " array([-1.02395014e+05, -8.19162183e+04, -6.14374229e+04, -4.09586276e+04,\n",
       "        -2.04798323e+04, -1.03692323e+00,  2.04777584e+04,  4.09565537e+04,\n",
       "         6.14353491e+04,  8.19141444e+04,  1.02392940e+05]),\n",
       " <BarContainer object of 10 artists>)"
      ]
     },
     "execution_count": 111,
     "metadata": {},
     "output_type": "execute_result"
    },
    {
     "data": {
      "image/png": "[encoded data removed]",
      "text/plain": [
       "<Figure size 432x288 with 1 Axes>"
      ]
     },
     "metadata": {
      "needs_background": "light"
     },
     "output_type": "display_data"
    }
   ],
   "source": []
  },
  {
   "cell_type": "code",
   "execution_count": 102,
   "id": "selected-filter",
   "metadata": {},
   "outputs": [],
   "source": [
    "# def f(a):\n",
    "#     if abs(a) > 10000:\n",
    "#         return -100\n",
    "#     return a\n",
    "# b = [f(a) for a in threshold_finder]"
   ]
  },
  {
   "cell_type": "code",
   "execution_count": 103,
   "id": "latest-expense",
   "metadata": {},
   "outputs": [
    {
     "data": {
      "text/plain": [
       "(array([  1.,   0.,   0.,   0.,   0.,   0.,   1.,   0.,   0.,   0.,   0.,\n",
       "          0.,   0.,   0.,   0.,   0.,   0.,   0.,   0.,   2.,   0.,   0.,\n",
       "          0.,   0.,   0.,   0.,   0.,   0.,   0.,   0.,   0.,   0.,   0.,\n",
       "          0.,   0.,   0.,   0.,   0.,   0.,   0.,   0.,   0.,   0.,   0.,\n",
       "          0.,   0.,   1.,   4.,   4.,   8.,  18.,  91., 202., 125.,  37.,\n",
       "          7.,   3.,   6.,   1.,   0.,   0.,   0.,   0.,   0.,   0.,   0.,\n",
       "          0.,   0.,   0.,   0.,   0.,   0.,   0.,   0.,   0.,   0.,   0.,\n",
       "          0.,   0.,   0.,   0.,   0.,   0.,   0.,   0.,   0.,   0.,   0.,\n",
       "          0.,   0.,   0.,   0.,   0.,   0.,   0.,   1.,   0.,   0.,   0.,\n",
       "          1.]),\n",
       " array([-156.49752604, -153.52588639, -150.55424673, -147.58260707,\n",
       "        -144.61096742, -141.63932776, -138.66768811, -135.69604845,\n",
       "        -132.7244088 , -129.75276914, -126.78112948, -123.80948983,\n",
       "        -120.83785017, -117.86621052, -114.89457086, -111.92293121,\n",
       "        -108.95129155, -105.9796519 , -103.00801224, -100.03637258,\n",
       "         -97.06473293,  -94.09309327,  -91.12145362,  -88.14981396,\n",
       "         -85.17817431,  -82.20653465,  -79.23489499,  -76.26325534,\n",
       "         -73.29161568,  -70.31997603,  -67.34833637,  -64.37669672,\n",
       "         -61.40505706,  -58.4334174 ,  -55.46177775,  -52.49013809,\n",
       "         -49.51849844,  -46.54685878,  -43.57521913,  -40.60357947,\n",
       "         -37.63193981,  -34.66030016,  -31.6886605 ,  -28.71702085,\n",
       "         -25.74538119,  -22.77374154,  -19.80210188,  -16.83046223,\n",
       "         -13.85882257,  -10.88718291,   -7.91554326,   -4.9439036 ,\n",
       "          -1.97226395,    0.99937571,    3.97101536,    6.94265502,\n",
       "           9.91429468,   12.88593433,   15.85757399,   18.82921364,\n",
       "          21.8008533 ,   24.77249295,   27.74413261,   30.71577227,\n",
       "          33.68741192,   36.65905158,   39.63069123,   42.60233089,\n",
       "          45.57397054,   48.5456102 ,   51.51724986,   54.48888951,\n",
       "          57.46052917,   60.43216882,   63.40380848,   66.37544813,\n",
       "          69.34708779,   72.31872745,   75.2903671 ,   78.26200676,\n",
       "          81.23364641,   84.20528607,   87.17692572,   90.14856538,\n",
       "          93.12020503,   96.09184469,   99.06348435,  102.035124  ,\n",
       "         105.00676366,  107.97840331,  110.95004297,  113.92168262,\n",
       "         116.89332228,  119.86496194,  122.83660159,  125.80824125,\n",
       "         128.7798809 ,  131.75152056,  134.72316021,  137.69479987,\n",
       "         140.66643953]),\n",
       " <BarContainer object of 100 artists>)"
      ]
     },
     "execution_count": 103,
     "metadata": {},
     "output_type": "execute_result"
    },
    {
     "data": {
      "image/png": "[encoded data removed]",
      "text/plain": [
       "<Figure size 432x288 with 1 Axes>"
      ]
     },
     "metadata": {
      "needs_background": "light"
     },
     "output_type": "display_data"
    }
   ],
   "source": [
    "# plt.hist(b,100)"
   ]
  },
  {
   "cell_type": "code",
   "execution_count": 104,
   "id": "mature-ability",
   "metadata": {},
   "outputs": [],
   "source": [
    "# b = set([int(a) for a in threshold_finder])\n",
    "# c = {a:0 for a in b}\n",
    "# for x in threshold_finder:\n",
    "#     c[int(x)]+=1"
   ]
  },
  {
   "cell_type": "code",
   "execution_count": null,
   "id": "enormous-verse",
   "metadata": {
    "scrolled": false
   },
   "outputs": [],
   "source": []
  },
  {
   "cell_type": "code",
   "execution_count": 105,
   "id": "based-ecology",
   "metadata": {},
   "outputs": [
    {
     "name": "stdout",
     "output_type": "stream",
     "text": [
      "{-102395: 1, -156: 1, -138: 1, -18: 1, -16: 3, -14: 1, -13: 2, -12: 1, -11: 1, -10: 2, -9: 2, -8: 4, -7: 2, -6: 4, -5: 11, -4: 27, -3: 23, -2: 41, -1: 38, 0: 165, 1: 39, 2: 43, 3: 46, 4: 21, 5: 8, 6: 5, 7: 2, 8: 4, 9: 1, 10: 1, 11: 1, 12: 1, 13: 2, 14: 3, 15: 1, 17: 1, 127: 1, 140: 1, 102392: 1}\n"
     ]
    }
   ],
   "source": [
    "\n",
    "# # Python3 code to demonstrate working of \n",
    "# # Sort Dictionary key and values List\n",
    "# # Using loop + dictionary comprehension\n",
    "  \n",
    "# # initializing dictionary\n",
    "# test_dict = c\n",
    "# # Sort Dictionary key and values List\n",
    "# # Using loop + dictionary comprehension\n",
    "# res = dict()\n",
    "# for key in sorted(test_dict):\n",
    "#     res[key] = test_dict[key]\n",
    "  \n",
    "# # printing result \n",
    "# print(res) "
   ]
  },
  {
   "cell_type": "code",
   "execution_count": 106,
   "id": "unnecessary-westminster",
   "metadata": {},
   "outputs": [
    {
     "data": {
      "text/plain": [
       "{-102395: 1,\n",
       " -156: 1,\n",
       " -138: 1,\n",
       " -18: 1,\n",
       " -16: 3,\n",
       " -14: 1,\n",
       " -13: 2,\n",
       " -12: 1,\n",
       " -11: 1,\n",
       " -10: 2,\n",
       " -9: 2,\n",
       " -8: 4,\n",
       " -7: 2,\n",
       " -6: 4,\n",
       " -5: 11,\n",
       " -4: 27,\n",
       " -3: 23,\n",
       " -2: 41,\n",
       " -1: 38,\n",
       " 0: 165,\n",
       " 1: 39,\n",
       " 2: 43,\n",
       " 3: 46,\n",
       " 4: 21,\n",
       " 5: 8,\n",
       " 6: 5,\n",
       " 7: 2,\n",
       " 8: 4,\n",
       " 9: 1,\n",
       " 10: 1,\n",
       " 11: 1,\n",
       " 12: 1,\n",
       " 13: 2,\n",
       " 14: 3,\n",
       " 15: 1,\n",
       " 17: 1,\n",
       " 127: 1,\n",
       " 140: 1,\n",
       " 102392: 1}"
      ]
     },
     "execution_count": 106,
     "metadata": {},
     "output_type": "execute_result"
    }
   ],
   "source": []
  },
  {
   "cell_type": "code",
   "execution_count": 107,
   "id": "center-verse",
   "metadata": {},
   "outputs": [
    {
     "name": "stdout",
     "output_type": "stream",
     "text": [
      "102392 1\n",
      "140 1\n",
      "127 1\n",
      "17 1\n",
      "15 1\n",
      "14 3\n",
      "13 2\n",
      "12 1\n",
      "11 1\n",
      "10 1\n",
      "9 1\n",
      "8 4\n",
      "7 2\n",
      "6 5\n",
      "5 8\n",
      "4 21\n"
     ]
    }
   ],
   "source": [
    "# i=0;\n",
    "# sum = 0;\n",
    "# k = [a for a in res.keys()]\n",
    "# while(True):\n",
    "#     sum += res[k[len(k)-i-1]]\n",
    "#     print(k[len(k)-i-1], res[k[len(k)-i-1]])\n",
    "#     i+=1\n",
    "#     if(sum > 50):\n",
    "#         break"
   ]
  },
  {
   "cell_type": "code",
   "execution_count": 108,
   "id": "mobile-corruption",
   "metadata": {},
   "outputs": [
    {
     "data": {
      "text/plain": [
       "16"
      ]
     },
     "execution_count": 108,
     "metadata": {},
     "output_type": "execute_result"
    }
   ],
   "source": []
  },
  {
   "cell_type": "code",
   "execution_count": 122,
   "id": "experimental-candy",
   "metadata": {},
   "outputs": [
    {
     "name": "stderr",
     "output_type": "stream",
     "text": [
      "ERROR:root:Internal Python error in the inspect module.\n",
      "Below is the traceback from this internal error.\n",
      "\n"
     ]
    },
    {
     "name": "stdout",
     "output_type": "stream",
     "text": [
      " Usage1: slides_extractor.py {filename}\n",
      " Usage2: slides_extractor.py [OPTION] [VALUE(s)]\n",
      "\n",
      " -h, --help : show this help\n",
      " -m, --multiple: multiple files, write names of all the files separated by space\n",
      "Oops <class 'SystemExit'>\n",
      "Invalid command: use ' slides_extractor.py -h ' to get help\n",
      "Traceback (most recent call last):\n",
      "  File \"<ipython-input-122-1a3fbfc56a20>\", line 50, in <module>\n",
      "    sys.exit()\n",
      "SystemExit\n",
      "\n",
      "During handling of the above exception, another exception occurred:\n",
      "\n",
      "Traceback (most recent call last):\n",
      "  File \"/home/rissu/Programs/Anaconda3/envs/dubber/lib/python3.8/site-packages/IPython/core/interactiveshell.py\", line 3427, in run_code\n",
      "    exec(code_obj, self.user_global_ns, self.user_ns)\n",
      "  File \"<ipython-input-122-1a3fbfc56a20>\", line 56, in <module>\n",
      "    sys.exit()\n",
      "SystemExit\n",
      "\n",
      "During handling of the above exception, another exception occurred:\n",
      "\n",
      "Traceback (most recent call last):\n",
      "  File \"/home/rissu/Programs/Anaconda3/envs/dubber/lib/python3.8/site-packages/IPython/core/ultratb.py\", line 1101, in get_records\n",
      "    return _fixed_getinnerframes(etb, number_of_lines_of_context, tb_offset)\n",
      "  File \"/home/rissu/Programs/Anaconda3/envs/dubber/lib/python3.8/site-packages/IPython/core/ultratb.py\", line 248, in wrapped\n",
      "    return f(*args, **kwargs)\n",
      "  File \"/home/rissu/Programs/Anaconda3/envs/dubber/lib/python3.8/site-packages/IPython/core/ultratb.py\", line 281, in _fixed_getinnerframes\n",
      "    records = fix_frame_records_filenames(inspect.getinnerframes(etb, context))\n",
      "  File \"/home/rissu/Programs/Anaconda3/envs/dubber/lib/python3.8/inspect.py\", line 1503, in getinnerframes\n",
      "    frameinfo = (tb.tb_frame,) + getframeinfo(tb, context)\n",
      "AttributeError: 'tuple' object has no attribute 'tb_frame'\n"
     ]
    },
    {
     "ename": "TypeError",
     "evalue": "object of type 'NoneType' has no len()",
     "output_type": "error",
     "traceback": [
      "\u001b[0;31m---------------------------------------------------------------------------\u001b[0m",
      "\u001b[0;31mSystemExit\u001b[0m                                Traceback (most recent call last)",
      "\u001b[0;32m<ipython-input-122-1a3fbfc56a20>\u001b[0m in \u001b[0;36m<module>\u001b[0;34m\u001b[0m\n\u001b[1;32m     49\u001b[0m             )\n\u001b[0;32m---> 50\u001b[0;31m         \u001b[0msys\u001b[0m\u001b[0;34m.\u001b[0m\u001b[0mexit\u001b[0m\u001b[0;34m(\u001b[0m\u001b[0;34m)\u001b[0m\u001b[0;34m\u001b[0m\u001b[0;34m\u001b[0m\u001b[0m\n\u001b[0m\u001b[1;32m     51\u001b[0m \u001b[0;34m\u001b[0m\u001b[0m\n",
      "\u001b[0;31mSystemExit\u001b[0m: ",
      "\nDuring handling of the above exception, another exception occurred:\n",
      "\u001b[0;31mSystemExit\u001b[0m                                Traceback (most recent call last)",
      "    \u001b[0;31m[... skipping hidden 1 frame]\u001b[0m\n",
      "\u001b[0;32m<ipython-input-122-1a3fbfc56a20>\u001b[0m in \u001b[0;36m<module>\u001b[0;34m\u001b[0m\n\u001b[1;32m     55\u001b[0m     \u001b[0mprint\u001b[0m \u001b[0;34m(\u001b[0m\u001b[0;34m\"Invalid command: use ' slides_extractor.py -h ' to get help\"\u001b[0m\u001b[0;34m)\u001b[0m\u001b[0;34m\u001b[0m\u001b[0;34m\u001b[0m\u001b[0m\n\u001b[0;32m---> 56\u001b[0;31m     \u001b[0msys\u001b[0m\u001b[0;34m.\u001b[0m\u001b[0mexit\u001b[0m\u001b[0;34m(\u001b[0m\u001b[0;34m)\u001b[0m\u001b[0;34m\u001b[0m\u001b[0;34m\u001b[0m\u001b[0m\n\u001b[0m\u001b[1;32m     57\u001b[0m \u001b[0;34m\u001b[0m\u001b[0m\n",
      "\u001b[0;31mSystemExit\u001b[0m: ",
      "\nDuring handling of the above exception, another exception occurred:\n",
      "\u001b[0;31mTypeError\u001b[0m                                 Traceback (most recent call last)",
      "    \u001b[0;31m[... skipping hidden 1 frame]\u001b[0m\n",
      "\u001b[0;32m~/Programs/Anaconda3/envs/dubber/lib/python3.8/site-packages/IPython/core/interactiveshell.py\u001b[0m in \u001b[0;36mshowtraceback\u001b[0;34m(self, exc_tuple, filename, tb_offset, exception_only, running_compiled_code)\u001b[0m\n\u001b[1;32m   2045\u001b[0m                     stb = ['An exception has occurred, use %tb to see '\n\u001b[1;32m   2046\u001b[0m                            'the full traceback.\\n']\n\u001b[0;32m-> 2047\u001b[0;31m                     stb.extend(self.InteractiveTB.get_exception_only(etype,\n\u001b[0m\u001b[1;32m   2048\u001b[0m                                                                      value))\n\u001b[1;32m   2049\u001b[0m                 \u001b[0;32melse\u001b[0m\u001b[0;34m:\u001b[0m\u001b[0;34m\u001b[0m\u001b[0;34m\u001b[0m\u001b[0m\n",
      "\u001b[0;32m~/Programs/Anaconda3/envs/dubber/lib/python3.8/site-packages/IPython/core/ultratb.py\u001b[0m in \u001b[0;36mget_exception_only\u001b[0;34m(self, etype, value)\u001b[0m\n\u001b[1;32m    752\u001b[0m         \u001b[0mvalue\u001b[0m \u001b[0;34m:\u001b[0m \u001b[0mexception\u001b[0m \u001b[0mvalue\u001b[0m\u001b[0;34m\u001b[0m\u001b[0;34m\u001b[0m\u001b[0m\n\u001b[1;32m    753\u001b[0m         \"\"\"\n\u001b[0;32m--> 754\u001b[0;31m         \u001b[0;32mreturn\u001b[0m \u001b[0mListTB\u001b[0m\u001b[0;34m.\u001b[0m\u001b[0mstructured_traceback\u001b[0m\u001b[0;34m(\u001b[0m\u001b[0mself\u001b[0m\u001b[0;34m,\u001b[0m \u001b[0metype\u001b[0m\u001b[0;34m,\u001b[0m \u001b[0mvalue\u001b[0m\u001b[0;34m)\u001b[0m\u001b[0;34m\u001b[0m\u001b[0;34m\u001b[0m\u001b[0m\n\u001b[0m\u001b[1;32m    755\u001b[0m \u001b[0;34m\u001b[0m\u001b[0m\n\u001b[1;32m    756\u001b[0m     \u001b[0;32mdef\u001b[0m \u001b[0mshow_exception_only\u001b[0m\u001b[0;34m(\u001b[0m\u001b[0mself\u001b[0m\u001b[0;34m,\u001b[0m \u001b[0metype\u001b[0m\u001b[0;34m,\u001b[0m \u001b[0mevalue\u001b[0m\u001b[0;34m)\u001b[0m\u001b[0;34m:\u001b[0m\u001b[0;34m\u001b[0m\u001b[0;34m\u001b[0m\u001b[0m\n",
      "\u001b[0;32m~/Programs/Anaconda3/envs/dubber/lib/python3.8/site-packages/IPython/core/ultratb.py\u001b[0m in \u001b[0;36mstructured_traceback\u001b[0;34m(self, etype, evalue, etb, tb_offset, context)\u001b[0m\n\u001b[1;32m    627\u001b[0m             \u001b[0mchained_exceptions_tb_offset\u001b[0m \u001b[0;34m=\u001b[0m \u001b[0;36m0\u001b[0m\u001b[0;34m\u001b[0m\u001b[0;34m\u001b[0m\u001b[0m\n\u001b[1;32m    628\u001b[0m             out_list = (\n\u001b[0;32m--> 629\u001b[0;31m                 self.structured_traceback(\n\u001b[0m\u001b[1;32m    630\u001b[0m                     \u001b[0metype\u001b[0m\u001b[0;34m,\u001b[0m \u001b[0mevalue\u001b[0m\u001b[0;34m,\u001b[0m \u001b[0;34m(\u001b[0m\u001b[0metb\u001b[0m\u001b[0;34m,\u001b[0m \u001b[0mchained_exc_ids\u001b[0m\u001b[0;34m)\u001b[0m\u001b[0;34m,\u001b[0m\u001b[0;34m\u001b[0m\u001b[0;34m\u001b[0m\u001b[0m\n\u001b[1;32m    631\u001b[0m                     chained_exceptions_tb_offset, context)\n",
      "\u001b[0;32m~/Programs/Anaconda3/envs/dubber/lib/python3.8/site-packages/IPython/core/ultratb.py\u001b[0m in \u001b[0;36mstructured_traceback\u001b[0;34m(self, etype, value, tb, tb_offset, number_of_lines_of_context)\u001b[0m\n\u001b[1;32m   1365\u001b[0m         \u001b[0;32melse\u001b[0m\u001b[0;34m:\u001b[0m\u001b[0;34m\u001b[0m\u001b[0;34m\u001b[0m\u001b[0m\n\u001b[1;32m   1366\u001b[0m             \u001b[0mself\u001b[0m\u001b[0;34m.\u001b[0m\u001b[0mtb\u001b[0m \u001b[0;34m=\u001b[0m \u001b[0mtb\u001b[0m\u001b[0;34m\u001b[0m\u001b[0;34m\u001b[0m\u001b[0m\n\u001b[0;32m-> 1367\u001b[0;31m         return FormattedTB.structured_traceback(\n\u001b[0m\u001b[1;32m   1368\u001b[0m             self, etype, value, tb, tb_offset, number_of_lines_of_context)\n\u001b[1;32m   1369\u001b[0m \u001b[0;34m\u001b[0m\u001b[0m\n",
      "\u001b[0;32m~/Programs/Anaconda3/envs/dubber/lib/python3.8/site-packages/IPython/core/ultratb.py\u001b[0m in \u001b[0;36mstructured_traceback\u001b[0;34m(self, etype, value, tb, tb_offset, number_of_lines_of_context)\u001b[0m\n\u001b[1;32m   1265\u001b[0m         \u001b[0;32mif\u001b[0m \u001b[0mmode\u001b[0m \u001b[0;32min\u001b[0m \u001b[0mself\u001b[0m\u001b[0;34m.\u001b[0m\u001b[0mverbose_modes\u001b[0m\u001b[0;34m:\u001b[0m\u001b[0;34m\u001b[0m\u001b[0;34m\u001b[0m\u001b[0m\n\u001b[1;32m   1266\u001b[0m             \u001b[0;31m# Verbose modes need a full traceback\u001b[0m\u001b[0;34m\u001b[0m\u001b[0;34m\u001b[0m\u001b[0;34m\u001b[0m\u001b[0m\n\u001b[0;32m-> 1267\u001b[0;31m             return VerboseTB.structured_traceback(\n\u001b[0m\u001b[1;32m   1268\u001b[0m                 \u001b[0mself\u001b[0m\u001b[0;34m,\u001b[0m \u001b[0metype\u001b[0m\u001b[0;34m,\u001b[0m \u001b[0mvalue\u001b[0m\u001b[0;34m,\u001b[0m \u001b[0mtb\u001b[0m\u001b[0;34m,\u001b[0m \u001b[0mtb_offset\u001b[0m\u001b[0;34m,\u001b[0m \u001b[0mnumber_of_lines_of_context\u001b[0m\u001b[0;34m\u001b[0m\u001b[0;34m\u001b[0m\u001b[0m\n\u001b[1;32m   1269\u001b[0m             )\n",
      "\u001b[0;32m~/Programs/Anaconda3/envs/dubber/lib/python3.8/site-packages/IPython/core/ultratb.py\u001b[0m in \u001b[0;36mstructured_traceback\u001b[0;34m(self, etype, evalue, etb, tb_offset, number_of_lines_of_context)\u001b[0m\n\u001b[1;32m   1122\u001b[0m         \u001b[0;34m\"\"\"Return a nice text document describing the traceback.\"\"\"\u001b[0m\u001b[0;34m\u001b[0m\u001b[0;34m\u001b[0m\u001b[0m\n\u001b[1;32m   1123\u001b[0m \u001b[0;34m\u001b[0m\u001b[0m\n\u001b[0;32m-> 1124\u001b[0;31m         formatted_exception = self.format_exception_as_a_whole(etype, evalue, etb, number_of_lines_of_context,\n\u001b[0m\u001b[1;32m   1125\u001b[0m                                                                tb_offset)\n\u001b[1;32m   1126\u001b[0m \u001b[0;34m\u001b[0m\u001b[0m\n",
      "\u001b[0;32m~/Programs/Anaconda3/envs/dubber/lib/python3.8/site-packages/IPython/core/ultratb.py\u001b[0m in \u001b[0;36mformat_exception_as_a_whole\u001b[0;34m(self, etype, evalue, etb, number_of_lines_of_context, tb_offset)\u001b[0m\n\u001b[1;32m   1080\u001b[0m \u001b[0;34m\u001b[0m\u001b[0m\n\u001b[1;32m   1081\u001b[0m \u001b[0;34m\u001b[0m\u001b[0m\n\u001b[0;32m-> 1082\u001b[0;31m         \u001b[0mlast_unique\u001b[0m\u001b[0;34m,\u001b[0m \u001b[0mrecursion_repeat\u001b[0m \u001b[0;34m=\u001b[0m \u001b[0mfind_recursion\u001b[0m\u001b[0;34m(\u001b[0m\u001b[0morig_etype\u001b[0m\u001b[0;34m,\u001b[0m \u001b[0mevalue\u001b[0m\u001b[0;34m,\u001b[0m \u001b[0mrecords\u001b[0m\u001b[0;34m)\u001b[0m\u001b[0;34m\u001b[0m\u001b[0;34m\u001b[0m\u001b[0m\n\u001b[0m\u001b[1;32m   1083\u001b[0m \u001b[0;34m\u001b[0m\u001b[0m\n\u001b[1;32m   1084\u001b[0m         \u001b[0mframes\u001b[0m \u001b[0;34m=\u001b[0m \u001b[0mself\u001b[0m\u001b[0;34m.\u001b[0m\u001b[0mformat_records\u001b[0m\u001b[0;34m(\u001b[0m\u001b[0mrecords\u001b[0m\u001b[0;34m,\u001b[0m \u001b[0mlast_unique\u001b[0m\u001b[0;34m,\u001b[0m \u001b[0mrecursion_repeat\u001b[0m\u001b[0;34m)\u001b[0m\u001b[0;34m\u001b[0m\u001b[0;34m\u001b[0m\u001b[0m\n",
      "\u001b[0;32m~/Programs/Anaconda3/envs/dubber/lib/python3.8/site-packages/IPython/core/ultratb.py\u001b[0m in \u001b[0;36mfind_recursion\u001b[0;34m(etype, value, records)\u001b[0m\n\u001b[1;32m    380\u001b[0m     \u001b[0;31m# first frame (from in to out) that looks different.\u001b[0m\u001b[0;34m\u001b[0m\u001b[0;34m\u001b[0m\u001b[0;34m\u001b[0m\u001b[0m\n\u001b[1;32m    381\u001b[0m     \u001b[0;32mif\u001b[0m \u001b[0;32mnot\u001b[0m \u001b[0mis_recursion_error\u001b[0m\u001b[0;34m(\u001b[0m\u001b[0metype\u001b[0m\u001b[0;34m,\u001b[0m \u001b[0mvalue\u001b[0m\u001b[0;34m,\u001b[0m \u001b[0mrecords\u001b[0m\u001b[0;34m)\u001b[0m\u001b[0;34m:\u001b[0m\u001b[0;34m\u001b[0m\u001b[0;34m\u001b[0m\u001b[0m\n\u001b[0;32m--> 382\u001b[0;31m         \u001b[0;32mreturn\u001b[0m \u001b[0mlen\u001b[0m\u001b[0;34m(\u001b[0m\u001b[0mrecords\u001b[0m\u001b[0;34m)\u001b[0m\u001b[0;34m,\u001b[0m \u001b[0;36m0\u001b[0m\u001b[0;34m\u001b[0m\u001b[0;34m\u001b[0m\u001b[0m\n\u001b[0m\u001b[1;32m    383\u001b[0m \u001b[0;34m\u001b[0m\u001b[0m\n\u001b[1;32m    384\u001b[0m     \u001b[0;31m# Select filename, lineno, func_name to track frames with\u001b[0m\u001b[0;34m\u001b[0m\u001b[0;34m\u001b[0m\u001b[0;34m\u001b[0m\u001b[0m\n",
      "\u001b[0;31mTypeError\u001b[0m: object of type 'NoneType' has no len()"
     ]
    }
   ],
   "source": [
    "#!/usr/bin/env python\n",
    "# coding: utf-8\n",
    "\n",
    "\n",
    "### Necessary imports\n",
    "import cv2\n",
    "import os\n",
    "import math\n",
    "import subprocess as sp\n",
    "import numpy as np\n",
    "import sys\n",
    "from time import sleep\n",
    "from PIL import Image\n",
    "\n",
    "### Listing variables\n",
    "global videoFile\n",
    "global threshold\n",
    "global time_interval\n",
    "videoFiles = []\n",
    "threshold = 25\n",
    "time_interval = 2\n",
    "\n",
    "### Reading arguments\n",
    "\n",
    "# Remove 1st argument from the\n",
    "# list of command line arguments\n",
    "argumentList = sys.argv[1:]\n",
    "\n",
    "# Options\n",
    "options = \"hm\"\n",
    "\n",
    "# Long options\n",
    "long_options = [\"help\", \"multiple\"]\n",
    "\n",
    "\n",
    "try:\n",
    "\n",
    "    if len(argumentList) == 1 and (argumentList[0] not in [\"-h\",\"--help\"]):\n",
    "        videoFiles.append(argumentList[0])\n",
    "    elif argumentList[0] in [\"-m\",\"--multiple\"]:\n",
    "        for i in range(1,len(argumentList)):\n",
    "            videoFiles.append(argumentList[i])\n",
    "    else:\n",
    "        print(\n",
    "            \" Usage1: slides_extractor.py {filename}\\n\",\n",
    "            \"Usage2: slides_extractor.py [OPTION] [VALUE(s)]\\n\\n\",\n",
    "            \"-h, --help : show this help\\n\",\n",
    "            \"-m, --multiple: multiple files, write names of all the files separated by space\"\n",
    "            )\n",
    "        sys.exit()\n",
    "\t\t\t\n",
    "except:\n",
    "\t# output error, and return with an error code\n",
    "    print(\"Oops\", sys.exc_info()[0])\n",
    "    print (\"Invalid command: use ' slides_extractor.py -h ' to get help\")\n",
    "    sys.exit()\n",
    "\n",
    "def ImgCmp(img1,img2):\n",
    "    if(img1.shape != img2.shape):\n",
    "        print(\"Exception: images' shapes inconsistent\")\n",
    "    # both images are numpy array with shape (1080,1920,3)\n",
    "    shape = img1.shape\n",
    "    split1 = []\n",
    "    split2 = []\n",
    "    # I have to make 4 sections of the image\n",
    "    # split1.append(img1[:shape[0]//2, :shape[1]//2])\n",
    "    # split1.append(img1[:shape[0]//2, shape[1]//2:])\n",
    "    # split1.append(img1[shape[0]//2:, :shape[1]//2])\n",
    "    # split1.append(img1[shape[0]//2:, shape[1]//2:])\n",
    "    # split2.append(img2[:shape[0]//2, :shape[1]//2])\n",
    "    # split2.append(img2[:shape[0]//2, shape[1]//2:])\n",
    "    # split2.append(img2[shape[0]//2:, :shape[1]//2])\n",
    "    # split2.append(img2[shape[0]//2:, shape[1]//2:])\n",
    "\n",
    "    # just taking the whole image\n",
    "    split1.append(img1)\n",
    "    split2.append(img2)\n",
    "\n",
    "    outs = []\n",
    "    for i in range(len(split1)):\n",
    "        sqsum = (split1[i]-split2[i])**2\n",
    "        sqsum_mean = sqsum/(split1[i].shape[0] * split1[i].shape[1]);\n",
    "        outs.append(sqsum_mean)\n",
    "    decider = np.array(outs)\n",
    "    return decider\n",
    "    \n",
    "### Bothway Comparision\n",
    "def Compare(lastframe,frame,newframe):\n",
    "    pcmp = ImgCmp(lastframe,frame)\n",
    "    ncmp = ImgCmp(frame,newframe )\n",
    "    diff = pcmp-ncmp\n",
    "    # # attempt to ignore mouse motion\n",
    "    # marker = np.sum(diff < 3)\n",
    "    # if marker == 2:\n",
    "    #     return False\n",
    "    diff = np.sum(diff)/diff.size\n",
    "    if(diff > threshold):\n",
    "        return True\n",
    "    return False\n",
    "\n",
    "### Extractor\n",
    "# Create a cache directory\n",
    "cache_dir = \".cache\"\n",
    "while(not(os.path.isfile(\"./\"+cache_dir))):\n",
    "    cache_dir+=\"1\"\n",
    "os.mkdir(\"./\"+cache_dir)\n",
    "\n",
    "for videoFile in videoFiles:\n",
    "    print(\"Starting processing for \",videoFile)\n",
    "    #ensure cache is clean\n",
    "    for f in os.listdir(\"./\"+cache_dir):\n",
    "        os.remove(\"./\"+cache_dir+\"/\"+f)\n",
    "    count = 0\n",
    "    frame=np.zeros((1080,1920,3))\n",
    "    lastframe=np.zeros((1080,1920,3))\n",
    "    cap = cv2.VideoCapture(videoFile)\n",
    "    frameRate = cap.get(5) #frame rate\n",
    "    total_frames=cap.get(cv2.CAP_PROP_FRAME_COUNT)\n",
    "    print(\"Frame Rate \", frameRate)\n",
    "    img_gap = math.floor(frameRate * time_interval) # ive set image interval to 10sec\n",
    "    if(img_gap == 0): # exception handling\n",
    "        img_gap = 1\n",
    "        print(\"Warning: img_gap has become 0, changing it appropriately\")\n",
    "        \n",
    "        \n",
    "        \n",
    "    ## To figure out the threshold value\n",
    "    # mean_storage = []\n",
    "    ##\n",
    "    visited_frames = 0\n",
    "    while(cap.isOpened()):\n",
    "        visited_frames+=1\n",
    "        frameId = cap.get(1) #current frame number\n",
    "        ret, newframe = cap.read()\n",
    "        if (ret != True):\n",
    "            break\n",
    "        if (frameId % img_gap == 0):\n",
    "            # We got the frame we wanted\n",
    "            if(Compare(lastframe,frame,newframe)):\n",
    "                count+=1\n",
    "                cv2.imwrite(\"./\"+cache_dir+\"/\"+str(count) + \".jpg\",frame)\n",
    "            else:\n",
    "                cv2.imwrite(\"./\"+cache_dir+\"/\"+str(count) + \".jpg\",frame)\n",
    "            lastframe = frame\n",
    "            frame = newframe\n",
    "            print(round(visited_frames*100/total_frames,2),\"%\",end='\\r')\n",
    "            sys.stdout.flush()\n",
    "    cap.release()\n",
    "    print(\"Total image count \", count)\n",
    "    print (\"Images are extracted in cache, proceeding to create a pdf!\")\n",
    "    image_list = os.listdir(\"./\"+cache_dir)\n",
    "    print(image_list)\n",
    "    image_list = [Image.open('./'+cache_dir+\"/\"+f).convert('RGB') for f in image_list]\n",
    "    image_list[0].save(\"./\"+videoFile+\".pdf\", save_all=True, append_images=image_list)\n",
    "\n",
    "\n",
    "\n"
   ]
  },
  {
   "cell_type": "code",
   "execution_count": null,
   "id": "robust-diesel",
   "metadata": {},
   "outputs": [],
   "source": []
  },
  {
   "cell_type": "code",
   "execution_count": null,
   "id": "bizarre-gravity",
   "metadata": {},
   "outputs": [],
   "source": []
  }
 ],
 "metadata": {
  "kernelspec": {
   "display_name": "Python 3",
   "language": "python",
   "name": "python3"
  },
  "language_info": {
   "codemirror_mode": {
    "name": "ipython",
    "version": 3
   },
   "file_extension": ".py",
   "mimetype": "text/x-python",
   "name": "python",
   "nbconvert_exporter": "python",
   "pygments_lexer": "ipython3",
   "version": "3.8.5"
  }
 },
 "nbformat": 4,
 "nbformat_minor": 5
}
